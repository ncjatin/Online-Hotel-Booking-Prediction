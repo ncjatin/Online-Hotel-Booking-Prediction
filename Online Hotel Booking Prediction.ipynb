{
 "cells": [
  {
   "cell_type": "code",
   "execution_count": 1,
   "metadata": {},
   "outputs": [],
   "source": [
    "import pandas \n",
    "pandas.set_option('display.max_colwidth', -1)\n",
    "pandas.options.display.max_columns = None     ## Columns\n",
    "pandas.options.display.max_rows = None\n",
    "import matplotlib.pyplot\n",
    "import pylab\n",
    "import numpy as np\n",
    "import sklearn\n",
    "from sklearn import model_selection\n",
    "from sklearn.preprocessing import StandardScaler,MinMaxScaler\n",
    "\n",
    "\n",
    "\n",
    "from sklearn import linear_model\n",
    "\n",
    "\n",
    "\n",
    "from scipy import stats\n",
    "from sklearn.metrics import mean_squared_error\n",
    "from sklearn.metrics import r2_score\n",
    "import matplotlib.pyplot as plt\n"
   ]
  },
  {
   "cell_type": "code",
   "execution_count": 2,
   "metadata": {},
   "outputs": [],
   "source": [
    "df =  pandas.read_csv('Online Hotel Booking Prediction.csv')"
   ]
  },
  {
   "cell_type": "code",
   "execution_count": 3,
   "metadata": {},
   "outputs": [
    {
     "data": {
      "text/plain": [
       "(595848, 37)"
      ]
     },
     "execution_count": 3,
     "metadata": {},
     "output_type": "execute_result"
    }
   ],
   "source": [
    "df.shape"
   ]
  },
  {
   "cell_type": "code",
   "execution_count": null,
   "metadata": {},
   "outputs": [],
   "source": []
  },
  {
   "cell_type": "code",
   "execution_count": 4,
   "metadata": {},
   "outputs": [
    {
     "data": {
      "text/html": [
       "<div>\n",
       "<style scoped>\n",
       "    .dataframe tbody tr th:only-of-type {\n",
       "        vertical-align: middle;\n",
       "    }\n",
       "\n",
       "    .dataframe tbody tr th {\n",
       "        vertical-align: top;\n",
       "    }\n",
       "\n",
       "    .dataframe thead th {\n",
       "        text-align: right;\n",
       "    }\n",
       "</style>\n",
       "<table border=\"1\" class=\"dataframe\">\n",
       "  <thead>\n",
       "    <tr style=\"text-align: right;\">\n",
       "      <th></th>\n",
       "      <th>id</th>\n",
       "      <th>yyear</th>\n",
       "      <th>week_of_year</th>\n",
       "      <th>advertiser_id</th>\n",
       "      <th>market</th>\n",
       "      <th>hotel_id</th>\n",
       "      <th>clicks</th>\n",
       "      <th>cost</th>\n",
       "      <th>bookings</th>\n",
       "      <th>top_pos</th>\n",
       "      <th>beat</th>\n",
       "      <th>meet</th>\n",
       "      <th>lose</th>\n",
       "      <th>impressions</th>\n",
       "      <th>city_id</th>\n",
       "      <th>stars</th>\n",
       "      <th>rating</th>\n",
       "      <th>distance_to_city_centre</th>\n",
       "      <th>poi_image</th>\n",
       "      <th>longitude</th>\n",
       "      <th>latitude</th>\n",
       "      <th>last_renovation</th>\n",
       "      <th>spa_hotel</th>\n",
       "      <th>country_hotel</th>\n",
       "      <th>convention_hotel</th>\n",
       "      <th>beach_front_hotel</th>\n",
       "      <th>luxury_hotel</th>\n",
       "      <th>city_hotel_centrally_located</th>\n",
       "      <th>health_resortrehab_hotel</th>\n",
       "      <th>club_club_hotel</th>\n",
       "      <th>airport_hotel</th>\n",
       "      <th>senior_hotel</th>\n",
       "      <th>eco_friendly_hotel</th>\n",
       "      <th>family_hotel</th>\n",
       "      <th>total_images</th>\n",
       "      <th>total_hq_images</th>\n",
       "      <th>advertiser_connections</th>\n",
       "    </tr>\n",
       "  </thead>\n",
       "  <tbody>\n",
       "    <tr>\n",
       "      <th>0</th>\n",
       "      <td>201716IM512425060</td>\n",
       "      <td>2017</td>\n",
       "      <td>16</td>\n",
       "      <td>5124</td>\n",
       "      <td>IM</td>\n",
       "      <td>25060</td>\n",
       "      <td>2</td>\n",
       "      <td>1104</td>\n",
       "      <td>0</td>\n",
       "      <td>1</td>\n",
       "      <td>1.0</td>\n",
       "      <td>4388.0</td>\n",
       "      <td>988.0</td>\n",
       "      <td>5309</td>\n",
       "      <td>39332</td>\n",
       "      <td>3</td>\n",
       "      <td>1000.0</td>\n",
       "      <td>1570</td>\n",
       "      <td>0</td>\n",
       "      <td>-1.885049</td>\n",
       "      <td>52.470711</td>\n",
       "      <td>2012.0</td>\n",
       "      <td>NaN</td>\n",
       "      <td>NaN</td>\n",
       "      <td>NaN</td>\n",
       "      <td>NaN</td>\n",
       "      <td>NaN</td>\n",
       "      <td>1.0</td>\n",
       "      <td>NaN</td>\n",
       "      <td>NaN</td>\n",
       "      <td>NaN</td>\n",
       "      <td>NaN</td>\n",
       "      <td>NaN</td>\n",
       "      <td>NaN</td>\n",
       "      <td>105</td>\n",
       "      <td>41</td>\n",
       "      <td>269</td>\n",
       "    </tr>\n",
       "    <tr>\n",
       "      <th>1</th>\n",
       "      <td>20176IM135625060</td>\n",
       "      <td>2017</td>\n",
       "      <td>6</td>\n",
       "      <td>1356</td>\n",
       "      <td>IM</td>\n",
       "      <td>25060</td>\n",
       "      <td>34</td>\n",
       "      <td>33281</td>\n",
       "      <td>11</td>\n",
       "      <td>174</td>\n",
       "      <td>37.0</td>\n",
       "      <td>11634.0</td>\n",
       "      <td>1802.0</td>\n",
       "      <td>13455</td>\n",
       "      <td>39332</td>\n",
       "      <td>3</td>\n",
       "      <td>1000.0</td>\n",
       "      <td>1570</td>\n",
       "      <td>0</td>\n",
       "      <td>-1.885049</td>\n",
       "      <td>52.470711</td>\n",
       "      <td>2012.0</td>\n",
       "      <td>NaN</td>\n",
       "      <td>NaN</td>\n",
       "      <td>NaN</td>\n",
       "      <td>NaN</td>\n",
       "      <td>NaN</td>\n",
       "      <td>1.0</td>\n",
       "      <td>NaN</td>\n",
       "      <td>NaN</td>\n",
       "      <td>NaN</td>\n",
       "      <td>NaN</td>\n",
       "      <td>NaN</td>\n",
       "      <td>NaN</td>\n",
       "      <td>105</td>\n",
       "      <td>41</td>\n",
       "      <td>269</td>\n",
       "    </tr>\n",
       "    <tr>\n",
       "      <th>2</th>\n",
       "      <td>201728IM512425060</td>\n",
       "      <td>2017</td>\n",
       "      <td>28</td>\n",
       "      <td>5124</td>\n",
       "      <td>IM</td>\n",
       "      <td>25060</td>\n",
       "      <td>3</td>\n",
       "      <td>2001</td>\n",
       "      <td>0</td>\n",
       "      <td>0</td>\n",
       "      <td>24.0</td>\n",
       "      <td>3975.0</td>\n",
       "      <td>2719.0</td>\n",
       "      <td>6666</td>\n",
       "      <td>39332</td>\n",
       "      <td>3</td>\n",
       "      <td>1000.0</td>\n",
       "      <td>1570</td>\n",
       "      <td>0</td>\n",
       "      <td>-1.885049</td>\n",
       "      <td>52.470711</td>\n",
       "      <td>2012.0</td>\n",
       "      <td>NaN</td>\n",
       "      <td>NaN</td>\n",
       "      <td>NaN</td>\n",
       "      <td>NaN</td>\n",
       "      <td>NaN</td>\n",
       "      <td>1.0</td>\n",
       "      <td>NaN</td>\n",
       "      <td>NaN</td>\n",
       "      <td>NaN</td>\n",
       "      <td>NaN</td>\n",
       "      <td>NaN</td>\n",
       "      <td>NaN</td>\n",
       "      <td>105</td>\n",
       "      <td>41</td>\n",
       "      <td>269</td>\n",
       "    </tr>\n",
       "    <tr>\n",
       "      <th>3</th>\n",
       "      <td>201726IM135625060</td>\n",
       "      <td>2017</td>\n",
       "      <td>26</td>\n",
       "      <td>1356</td>\n",
       "      <td>IM</td>\n",
       "      <td>25060</td>\n",
       "      <td>218</td>\n",
       "      <td>282394</td>\n",
       "      <td>21</td>\n",
       "      <td>1467</td>\n",
       "      <td>55.0</td>\n",
       "      <td>5182.0</td>\n",
       "      <td>1256.0</td>\n",
       "      <td>6444</td>\n",
       "      <td>39332</td>\n",
       "      <td>3</td>\n",
       "      <td>1000.0</td>\n",
       "      <td>1570</td>\n",
       "      <td>0</td>\n",
       "      <td>-1.885049</td>\n",
       "      <td>52.470711</td>\n",
       "      <td>2012.0</td>\n",
       "      <td>NaN</td>\n",
       "      <td>NaN</td>\n",
       "      <td>NaN</td>\n",
       "      <td>NaN</td>\n",
       "      <td>NaN</td>\n",
       "      <td>1.0</td>\n",
       "      <td>NaN</td>\n",
       "      <td>NaN</td>\n",
       "      <td>NaN</td>\n",
       "      <td>NaN</td>\n",
       "      <td>NaN</td>\n",
       "      <td>NaN</td>\n",
       "      <td>105</td>\n",
       "      <td>41</td>\n",
       "      <td>269</td>\n",
       "    </tr>\n",
       "    <tr>\n",
       "      <th>4</th>\n",
       "      <td>201737IM107125060</td>\n",
       "      <td>2017</td>\n",
       "      <td>37</td>\n",
       "      <td>1071</td>\n",
       "      <td>IM</td>\n",
       "      <td>25060</td>\n",
       "      <td>5</td>\n",
       "      <td>4600</td>\n",
       "      <td>0</td>\n",
       "      <td>42</td>\n",
       "      <td>NaN</td>\n",
       "      <td>NaN</td>\n",
       "      <td>NaN</td>\n",
       "      <td>5428</td>\n",
       "      <td>39332</td>\n",
       "      <td>3</td>\n",
       "      <td>1000.0</td>\n",
       "      <td>1570</td>\n",
       "      <td>0</td>\n",
       "      <td>-1.885049</td>\n",
       "      <td>52.470711</td>\n",
       "      <td>2012.0</td>\n",
       "      <td>NaN</td>\n",
       "      <td>NaN</td>\n",
       "      <td>NaN</td>\n",
       "      <td>NaN</td>\n",
       "      <td>NaN</td>\n",
       "      <td>1.0</td>\n",
       "      <td>NaN</td>\n",
       "      <td>NaN</td>\n",
       "      <td>NaN</td>\n",
       "      <td>NaN</td>\n",
       "      <td>NaN</td>\n",
       "      <td>NaN</td>\n",
       "      <td>105</td>\n",
       "      <td>41</td>\n",
       "      <td>269</td>\n",
       "    </tr>\n",
       "  </tbody>\n",
       "</table>\n",
       "</div>"
      ],
      "text/plain": [
       "                  id  yyear  week_of_year  advertiser_id market  hotel_id  \\\n",
       "0  201716IM512425060  2017   16            5124           IM     25060      \n",
       "1  20176IM135625060   2017   6             1356           IM     25060      \n",
       "2  201728IM512425060  2017   28            5124           IM     25060      \n",
       "3  201726IM135625060  2017   26            1356           IM     25060      \n",
       "4  201737IM107125060  2017   37            1071           IM     25060      \n",
       "\n",
       "   clicks    cost  bookings  top_pos  beat     meet    lose  impressions  \\\n",
       "0  2       1104    0         1        1.0   4388.0   988.0   5309          \n",
       "1  34      33281   11        174      37.0  11634.0  1802.0  13455         \n",
       "2  3       2001    0         0        24.0  3975.0   2719.0  6666          \n",
       "3  218     282394  21        1467     55.0  5182.0   1256.0  6444          \n",
       "4  5       4600    0         42      NaN   NaN      NaN      5428          \n",
       "\n",
       "   city_id  stars  rating  distance_to_city_centre  poi_image  longitude  \\\n",
       "0  39332    3      1000.0  1570                     0         -1.885049    \n",
       "1  39332    3      1000.0  1570                     0         -1.885049    \n",
       "2  39332    3      1000.0  1570                     0         -1.885049    \n",
       "3  39332    3      1000.0  1570                     0         -1.885049    \n",
       "4  39332    3      1000.0  1570                     0         -1.885049    \n",
       "\n",
       "    latitude  last_renovation  spa_hotel  country_hotel  convention_hotel  \\\n",
       "0  52.470711  2012.0          NaN        NaN            NaN                 \n",
       "1  52.470711  2012.0          NaN        NaN            NaN                 \n",
       "2  52.470711  2012.0          NaN        NaN            NaN                 \n",
       "3  52.470711  2012.0          NaN        NaN            NaN                 \n",
       "4  52.470711  2012.0          NaN        NaN            NaN                 \n",
       "\n",
       "   beach_front_hotel  luxury_hotel  city_hotel_centrally_located  \\\n",
       "0 NaN                NaN            1.0                            \n",
       "1 NaN                NaN            1.0                            \n",
       "2 NaN                NaN            1.0                            \n",
       "3 NaN                NaN            1.0                            \n",
       "4 NaN                NaN            1.0                            \n",
       "\n",
       "   health_resortrehab_hotel  club_club_hotel  airport_hotel  senior_hotel  \\\n",
       "0 NaN                       NaN              NaN            NaN             \n",
       "1 NaN                       NaN              NaN            NaN             \n",
       "2 NaN                       NaN              NaN            NaN             \n",
       "3 NaN                       NaN              NaN            NaN             \n",
       "4 NaN                       NaN              NaN            NaN             \n",
       "\n",
       "   eco_friendly_hotel  family_hotel  total_images  total_hq_images  \\\n",
       "0 NaN                 NaN            105           41                \n",
       "1 NaN                 NaN            105           41                \n",
       "2 NaN                 NaN            105           41                \n",
       "3 NaN                 NaN            105           41                \n",
       "4 NaN                 NaN            105           41                \n",
       "\n",
       "   advertiser_connections  \n",
       "0  269                     \n",
       "1  269                     \n",
       "2  269                     \n",
       "3  269                     \n",
       "4  269                     "
      ]
     },
     "execution_count": 4,
     "metadata": {},
     "output_type": "execute_result"
    }
   ],
   "source": [
    "df.head(5)"
   ]
  },
  {
   "cell_type": "code",
   "execution_count": 5,
   "metadata": {},
   "outputs": [
    {
     "data": {
      "text/plain": [
       "(595848, 37)"
      ]
     },
     "execution_count": 5,
     "metadata": {},
     "output_type": "execute_result"
    }
   ],
   "source": [
    "df.shape"
   ]
  },
  {
   "cell_type": "code",
   "execution_count": 6,
   "metadata": {},
   "outputs": [
    {
     "data": {
      "text/plain": [
       "id                              0.000000 \n",
       "yyear                           0.000000 \n",
       "week_of_year                    0.000000 \n",
       "advertiser_id                   0.000000 \n",
       "market                          0.000000 \n",
       "hotel_id                        0.000000 \n",
       "clicks                          0.000000 \n",
       "cost                            0.000000 \n",
       "bookings                        0.000000 \n",
       "top_pos                         0.000000 \n",
       "beat                            8.788986 \n",
       "meet                            8.788986 \n",
       "lose                            8.788986 \n",
       "impressions                     0.000000 \n",
       "city_id                         0.000000 \n",
       "stars                           0.000000 \n",
       "rating                          9.041903 \n",
       "distance_to_city_centre         0.000000 \n",
       "poi_image                       0.000000 \n",
       "longitude                       0.000000 \n",
       "latitude                        0.000000 \n",
       "last_renovation                 59.745271\n",
       "spa_hotel                       81.319061\n",
       "country_hotel                   92.754528\n",
       "convention_hotel                76.262906\n",
       "beach_front_hotel               90.426753\n",
       "luxury_hotel                    92.179213\n",
       "city_hotel_centrally_located    28.883205\n",
       "health_resortrehab_hotel        88.543387\n",
       "club_club_hotel                 98.461856\n",
       "airport_hotel                   95.253991\n",
       "senior_hotel                    99.160021\n",
       "eco_friendly_hotel              96.043622\n",
       "family_hotel                    61.135894\n",
       "total_images                    0.000000 \n",
       "total_hq_images                 0.000000 \n",
       "advertiser_connections          0.000000 \n",
       "dtype: float64"
      ]
     },
     "execution_count": 6,
     "metadata": {},
     "output_type": "execute_result"
    }
   ],
   "source": [
    "df.isnull().sum() * 100 / len(df)"
   ]
  },
  {
   "cell_type": "markdown",
   "metadata": {},
   "source": []
  },
  {
   "cell_type": "code",
   "execution_count": 7,
   "metadata": {},
   "outputs": [],
   "source": [
    "dropped_column = ['id','advertiser_id','hotel_id','city_id','last_renovation','spa_hotel','country_hotel','convention_hotel',\n",
    "            'beach_front_hotel','luxury_hotel','city_hotel_centrally_located','health_resortrehab_hotel',\n",
    "            'club_club_hotel','airport_hotel','senior_hotel','eco_friendly_hotel','family_hotel','longitude','latitude','yyear',\n",
    "                 'week_of_year','market','poi_image']\n",
    "df= df.drop(columns=dropped_column) "
   ]
  },
  {
   "cell_type": "code",
   "execution_count": 8,
   "metadata": {},
   "outputs": [
    {
     "data": {
      "text/html": [
       "<div>\n",
       "<style scoped>\n",
       "    .dataframe tbody tr th:only-of-type {\n",
       "        vertical-align: middle;\n",
       "    }\n",
       "\n",
       "    .dataframe tbody tr th {\n",
       "        vertical-align: top;\n",
       "    }\n",
       "\n",
       "    .dataframe thead th {\n",
       "        text-align: right;\n",
       "    }\n",
       "</style>\n",
       "<table border=\"1\" class=\"dataframe\">\n",
       "  <thead>\n",
       "    <tr style=\"text-align: right;\">\n",
       "      <th></th>\n",
       "      <th>clicks</th>\n",
       "      <th>cost</th>\n",
       "      <th>bookings</th>\n",
       "      <th>top_pos</th>\n",
       "      <th>beat</th>\n",
       "      <th>meet</th>\n",
       "      <th>lose</th>\n",
       "      <th>impressions</th>\n",
       "      <th>stars</th>\n",
       "      <th>rating</th>\n",
       "      <th>distance_to_city_centre</th>\n",
       "      <th>total_images</th>\n",
       "      <th>total_hq_images</th>\n",
       "      <th>advertiser_connections</th>\n",
       "    </tr>\n",
       "  </thead>\n",
       "  <tbody>\n",
       "    <tr>\n",
       "      <th>0</th>\n",
       "      <td>2</td>\n",
       "      <td>1104</td>\n",
       "      <td>0</td>\n",
       "      <td>1</td>\n",
       "      <td>1.0</td>\n",
       "      <td>4388.0</td>\n",
       "      <td>988.0</td>\n",
       "      <td>5309</td>\n",
       "      <td>3</td>\n",
       "      <td>1000.0</td>\n",
       "      <td>1570</td>\n",
       "      <td>105</td>\n",
       "      <td>41</td>\n",
       "      <td>269</td>\n",
       "    </tr>\n",
       "    <tr>\n",
       "      <th>1</th>\n",
       "      <td>34</td>\n",
       "      <td>33281</td>\n",
       "      <td>11</td>\n",
       "      <td>174</td>\n",
       "      <td>37.0</td>\n",
       "      <td>11634.0</td>\n",
       "      <td>1802.0</td>\n",
       "      <td>13455</td>\n",
       "      <td>3</td>\n",
       "      <td>1000.0</td>\n",
       "      <td>1570</td>\n",
       "      <td>105</td>\n",
       "      <td>41</td>\n",
       "      <td>269</td>\n",
       "    </tr>\n",
       "    <tr>\n",
       "      <th>2</th>\n",
       "      <td>3</td>\n",
       "      <td>2001</td>\n",
       "      <td>0</td>\n",
       "      <td>0</td>\n",
       "      <td>24.0</td>\n",
       "      <td>3975.0</td>\n",
       "      <td>2719.0</td>\n",
       "      <td>6666</td>\n",
       "      <td>3</td>\n",
       "      <td>1000.0</td>\n",
       "      <td>1570</td>\n",
       "      <td>105</td>\n",
       "      <td>41</td>\n",
       "      <td>269</td>\n",
       "    </tr>\n",
       "    <tr>\n",
       "      <th>3</th>\n",
       "      <td>218</td>\n",
       "      <td>282394</td>\n",
       "      <td>21</td>\n",
       "      <td>1467</td>\n",
       "      <td>55.0</td>\n",
       "      <td>5182.0</td>\n",
       "      <td>1256.0</td>\n",
       "      <td>6444</td>\n",
       "      <td>3</td>\n",
       "      <td>1000.0</td>\n",
       "      <td>1570</td>\n",
       "      <td>105</td>\n",
       "      <td>41</td>\n",
       "      <td>269</td>\n",
       "    </tr>\n",
       "    <tr>\n",
       "      <th>4</th>\n",
       "      <td>5</td>\n",
       "      <td>4600</td>\n",
       "      <td>0</td>\n",
       "      <td>42</td>\n",
       "      <td>NaN</td>\n",
       "      <td>NaN</td>\n",
       "      <td>NaN</td>\n",
       "      <td>5428</td>\n",
       "      <td>3</td>\n",
       "      <td>1000.0</td>\n",
       "      <td>1570</td>\n",
       "      <td>105</td>\n",
       "      <td>41</td>\n",
       "      <td>269</td>\n",
       "    </tr>\n",
       "    <tr>\n",
       "      <th>5</th>\n",
       "      <td>25</td>\n",
       "      <td>23506</td>\n",
       "      <td>7</td>\n",
       "      <td>258</td>\n",
       "      <td>3.0</td>\n",
       "      <td>6364.0</td>\n",
       "      <td>39.0</td>\n",
       "      <td>6406</td>\n",
       "      <td>3</td>\n",
       "      <td>1000.0</td>\n",
       "      <td>1570</td>\n",
       "      <td>105</td>\n",
       "      <td>41</td>\n",
       "      <td>269</td>\n",
       "    </tr>\n",
       "    <tr>\n",
       "      <th>6</th>\n",
       "      <td>8</td>\n",
       "      <td>8441</td>\n",
       "      <td>0</td>\n",
       "      <td>10</td>\n",
       "      <td>8.0</td>\n",
       "      <td>3663.0</td>\n",
       "      <td>860.0</td>\n",
       "      <td>4494</td>\n",
       "      <td>3</td>\n",
       "      <td>1000.0</td>\n",
       "      <td>1570</td>\n",
       "      <td>105</td>\n",
       "      <td>41</td>\n",
       "      <td>269</td>\n",
       "    </tr>\n",
       "    <tr>\n",
       "      <th>7</th>\n",
       "      <td>522</td>\n",
       "      <td>730227</td>\n",
       "      <td>60</td>\n",
       "      <td>6060</td>\n",
       "      <td>0.0</td>\n",
       "      <td>45.0</td>\n",
       "      <td>9370.0</td>\n",
       "      <td>9340</td>\n",
       "      <td>3</td>\n",
       "      <td>1000.0</td>\n",
       "      <td>1570</td>\n",
       "      <td>105</td>\n",
       "      <td>41</td>\n",
       "      <td>269</td>\n",
       "    </tr>\n",
       "    <tr>\n",
       "      <th>8</th>\n",
       "      <td>1</td>\n",
       "      <td>460</td>\n",
       "      <td>0</td>\n",
       "      <td>0</td>\n",
       "      <td>9.0</td>\n",
       "      <td>29.0</td>\n",
       "      <td>3641.0</td>\n",
       "      <td>3350</td>\n",
       "      <td>3</td>\n",
       "      <td>1000.0</td>\n",
       "      <td>1570</td>\n",
       "      <td>105</td>\n",
       "      <td>41</td>\n",
       "      <td>269</td>\n",
       "    </tr>\n",
       "    <tr>\n",
       "      <th>9</th>\n",
       "      <td>191</td>\n",
       "      <td>276782</td>\n",
       "      <td>63</td>\n",
       "      <td>2833</td>\n",
       "      <td>1.0</td>\n",
       "      <td>58.0</td>\n",
       "      <td>6631.0</td>\n",
       "      <td>6688</td>\n",
       "      <td>3</td>\n",
       "      <td>1000.0</td>\n",
       "      <td>1570</td>\n",
       "      <td>105</td>\n",
       "      <td>41</td>\n",
       "      <td>269</td>\n",
       "    </tr>\n",
       "  </tbody>\n",
       "</table>\n",
       "</div>"
      ],
      "text/plain": [
       "   clicks    cost  bookings  top_pos  beat     meet    lose  impressions  \\\n",
       "0  2       1104    0         1        1.0   4388.0   988.0   5309          \n",
       "1  34      33281   11        174      37.0  11634.0  1802.0  13455         \n",
       "2  3       2001    0         0        24.0  3975.0   2719.0  6666          \n",
       "3  218     282394  21        1467     55.0  5182.0   1256.0  6444          \n",
       "4  5       4600    0         42      NaN   NaN      NaN      5428          \n",
       "5  25      23506   7         258      3.0   6364.0   39.0    6406          \n",
       "6  8       8441    0         10       8.0   3663.0   860.0   4494          \n",
       "7  522     730227  60        6060     0.0   45.0     9370.0  9340          \n",
       "8  1       460     0         0        9.0   29.0     3641.0  3350          \n",
       "9  191     276782  63        2833     1.0   58.0     6631.0  6688          \n",
       "\n",
       "   stars  rating  distance_to_city_centre  total_images  total_hq_images  \\\n",
       "0  3      1000.0  1570                     105           41                \n",
       "1  3      1000.0  1570                     105           41                \n",
       "2  3      1000.0  1570                     105           41                \n",
       "3  3      1000.0  1570                     105           41                \n",
       "4  3      1000.0  1570                     105           41                \n",
       "5  3      1000.0  1570                     105           41                \n",
       "6  3      1000.0  1570                     105           41                \n",
       "7  3      1000.0  1570                     105           41                \n",
       "8  3      1000.0  1570                     105           41                \n",
       "9  3      1000.0  1570                     105           41                \n",
       "\n",
       "   advertiser_connections  \n",
       "0  269                     \n",
       "1  269                     \n",
       "2  269                     \n",
       "3  269                     \n",
       "4  269                     \n",
       "5  269                     \n",
       "6  269                     \n",
       "7  269                     \n",
       "8  269                     \n",
       "9  269                     "
      ]
     },
     "execution_count": 8,
     "metadata": {},
     "output_type": "execute_result"
    }
   ],
   "source": [
    "df.head(10)"
   ]
  },
  {
   "cell_type": "code",
   "execution_count": null,
   "metadata": {},
   "outputs": [],
   "source": []
  },
  {
   "cell_type": "code",
   "execution_count": 9,
   "metadata": {},
   "outputs": [
    {
     "data": {
      "text/plain": [
       "clicks                     int64  \n",
       "cost                       int64  \n",
       "bookings                   int64  \n",
       "top_pos                    int64  \n",
       "beat                       float64\n",
       "meet                       float64\n",
       "lose                       float64\n",
       "impressions                int64  \n",
       "stars                      int64  \n",
       "rating                     float64\n",
       "distance_to_city_centre    int64  \n",
       "total_images               int64  \n",
       "total_hq_images            int64  \n",
       "advertiser_connections     int64  \n",
       "dtype: object"
      ]
     },
     "execution_count": 9,
     "metadata": {},
     "output_type": "execute_result"
    }
   ],
   "source": [
    "df.dtypes"
   ]
  },
  {
   "cell_type": "code",
   "execution_count": null,
   "metadata": {},
   "outputs": [],
   "source": []
  },
  {
   "cell_type": "code",
   "execution_count": 10,
   "metadata": {},
   "outputs": [
    {
     "name": "stdout",
     "output_type": "stream",
     "text": [
      "Scatterplot of : cost\n",
      "0.7223951695577976\n"
     ]
    },
    {
     "data": {
      "image/png": "[encoded data removed]",
      "text/plain": [
       "<Figure size 432x288 with 1 Axes>"
      ]
     },
     "metadata": {
      "needs_background": "light"
     },
     "output_type": "display_data"
    },
    {
     "name": "stdout",
     "output_type": "stream",
     "text": [
      "Scatterplot of : bookings\n",
      "0.9999999999999998\n"
     ]
    },
    {
     "data": {
      "image/png": "[encoded data removed]",
      "text/plain": [
       "<Figure size 432x288 with 1 Axes>"
      ]
     },
     "metadata": {
      "needs_background": "light"
     },
     "output_type": "display_data"
    },
    {
     "name": "stdout",
     "output_type": "stream",
     "text": [
      "Scatterplot of : top_pos\n",
      "0.6782417136715033\n"
     ]
    },
    {
     "data": {
      "image/png": "[encoded data removed]",
      "text/plain": [
       "<Figure size 432x288 with 1 Axes>"
      ]
     },
     "metadata": {
      "needs_background": "light"
     },
     "output_type": "display_data"
    },
    {
     "name": "stdout",
     "output_type": "stream",
     "text": [
      "Scatterplot of : beat\n",
      "0.14908150855256702\n"
     ]
    },
    {
     "data": {
      "image/png": "[encoded data removed]",
      "text/plain": [
       "<Figure size 432x288 with 1 Axes>"
      ]
     },
     "metadata": {
      "needs_background": "light"
     },
     "output_type": "display_data"
    },
    {
     "name": "stdout",
     "output_type": "stream",
     "text": [
      "Scatterplot of : meet\n",
      "0.250169242577478\n"
     ]
    },
    {
     "data": {
      "image/png": "[encoded data removed]",
      "text/plain": [
       "<Figure size 432x288 with 1 Axes>"
      ]
     },
     "metadata": {
      "needs_background": "light"
     },
     "output_type": "display_data"
    },
    {
     "name": "stdout",
     "output_type": "stream",
     "text": [
      "Scatterplot of : lose\n",
      "0.08602582545811875\n"
     ]
    },
    {
     "data": {
      "image/png": "[encoded data removed]",
      "text/plain": [
       "<Figure size 432x288 with 1 Axes>"
      ]
     },
     "metadata": {
      "needs_background": "light"
     },
     "output_type": "display_data"
    },
    {
     "name": "stdout",
     "output_type": "stream",
     "text": [
      "Scatterplot of : impressions\n",
      "0.2184701335599832\n"
     ]
    },
    {
     "data": {
      "image/png": "[encoded data removed]",
      "text/plain": [
       "<Figure size 432x288 with 1 Axes>"
      ]
     },
     "metadata": {
      "needs_background": "light"
     },
     "output_type": "display_data"
    },
    {
     "name": "stdout",
     "output_type": "stream",
     "text": [
      "Scatterplot of : stars\n",
      "-0.06040700319703939\n"
     ]
    },
    {
     "data": {
      "image/png": "[encoded data removed]",
      "text/plain": [
       "<Figure size 432x288 with 1 Axes>"
      ]
     },
     "metadata": {
      "needs_background": "light"
     },
     "output_type": "display_data"
    },
    {
     "name": "stdout",
     "output_type": "stream",
     "text": [
      "Scatterplot of : rating\n",
      "-0.023005004874302033\n"
     ]
    },
    {
     "data": {
      "image/png": "[encoded data removed]",
      "text/plain": [
       "<Figure size 432x288 with 1 Axes>"
      ]
     },
     "metadata": {
      "needs_background": "light"
     },
     "output_type": "display_data"
    },
    {
     "name": "stdout",
     "output_type": "stream",
     "text": [
      "Scatterplot of : distance_to_city_centre\n",
      "-0.011394405129244828\n"
     ]
    },
    {
     "data": {
      "image/png": "[encoded data removed]",
      "text/plain": [
       "<Figure size 432x288 with 1 Axes>"
      ]
     },
     "metadata": {
      "needs_background": "light"
     },
     "output_type": "display_data"
    },
    {
     "name": "stdout",
     "output_type": "stream",
     "text": [
      "Scatterplot of : total_images\n",
      "-0.06870523891191149\n"
     ]
    },
    {
     "data": {
      "image/png": "[encoded data removed]",
      "text/plain": [
       "<Figure size 432x288 with 1 Axes>"
      ]
     },
     "metadata": {
      "needs_background": "light"
     },
     "output_type": "display_data"
    },
    {
     "name": "stdout",
     "output_type": "stream",
     "text": [
      "Scatterplot of : total_hq_images\n",
      "-0.05953387509637186\n"
     ]
    },
    {
     "data": {
      "image/png": "[encoded data removed]",
      "text/plain": [
       "<Figure size 432x288 with 1 Axes>"
      ]
     },
     "metadata": {
      "needs_background": "light"
     },
     "output_type": "display_data"
    },
    {
     "name": "stdout",
     "output_type": "stream",
     "text": [
      "Scatterplot of : advertiser_connections\n",
      "-0.051232961408870625\n"
     ]
    },
    {
     "data": {
      "image/png": "[encoded data removed]",
      "text/plain": [
       "<Figure size 432x288 with 1 Axes>"
      ]
     },
     "metadata": {
      "needs_background": "light"
     },
     "output_type": "display_data"
    }
   ],
   "source": [
    "for i in df.columns[1:]:\n",
    "    print('Scatterplot of :',i)\n",
    "    y = df.bookings\n",
    "    x = df[i]\n",
    "    print(y.corr(x))\n",
    "    matplotlib.pyplot.scatter(x,y)\n",
    "\n",
    "    matplotlib.pyplot.show()\n",
    "    \n",
    "    \n",
    "    "
   ]
  },
  {
   "cell_type": "code",
   "execution_count": 11,
   "metadata": {},
   "outputs": [
    {
     "data": {
      "text/plain": [
       "clicks                     0    \n",
       "cost                       0    \n",
       "bookings                   0    \n",
       "top_pos                    0    \n",
       "beat                       52369\n",
       "meet                       52369\n",
       "lose                       52369\n",
       "impressions                0    \n",
       "stars                      0    \n",
       "rating                     53876\n",
       "distance_to_city_centre    0    \n",
       "total_images               0    \n",
       "total_hq_images            0    \n",
       "advertiser_connections     0    \n",
       "dtype: int64"
      ]
     },
     "execution_count": 11,
     "metadata": {},
     "output_type": "execute_result"
    }
   ],
   "source": [
    "df.isnull().sum()"
   ]
  },
  {
   "cell_type": "code",
   "execution_count": 12,
   "metadata": {},
   "outputs": [],
   "source": [
    "df['beat'] = df['beat'].fillna(df['beat'].mean())\n",
    "df['meet'] = df['meet'].fillna(df['meet'].mean())\n",
    "df['lose'] = df['lose'].fillna(df['lose'].mean())\n",
    "df['rating'] = df['rating'].fillna(df['rating'].mean())"
   ]
  },
  {
   "cell_type": "code",
   "execution_count": null,
   "metadata": {},
   "outputs": [],
   "source": []
  },
  {
   "cell_type": "code",
   "execution_count": null,
   "metadata": {},
   "outputs": [],
   "source": [
    "########################################################################################################################"
   ]
  },
  {
   "cell_type": "code",
   "execution_count": 13,
   "metadata": {},
   "outputs": [],
   "source": [
    "# Split-out validation dataset\n",
    "X = df.drop(columns=['bookings']).values\n",
    "Y = df['bookings'].values\n",
    "scaler = MinMaxScaler()\n",
    "X=scaler.fit_transform(X)\n",
    "numerics = ['int16', 'int32', 'int64', 'float16', 'float32', 'float64']\n",
    "X_Columns=df.select_dtypes(include=numerics).drop(columns=['bookings']).columns\n",
    "validation_size = 0.30\n",
    "seed = 100\n",
    "X_train, X_test, Y_train, Y_test = sklearn.model_selection.train_test_split(X, Y, test_size=validation_size, random_state=seed)\n"
   ]
  },
  {
   "cell_type": "code",
   "execution_count": 14,
   "metadata": {},
   "outputs": [
    {
     "name": "stdout",
     "output_type": "stream",
     "text": [
      "____________________________________________________________________________\n",
      "\n",
      "\n",
      "TEST RESULTS\n",
      "\n",
      "Coefficients: \n",
      " [ 4.91627798e+02 -2.48194293e+02  3.18708962e+01  1.94395964e+01\n",
      " -4.82909605e+00 -7.31968761e+00  2.30511177e+00 -2.30666814e+00\n",
      " -3.45737680e-01  1.09471743e-01 -4.39048276e+00  1.16629349e+00\n",
      " -1.21524694e-01]\n",
      "\n",
      "\n",
      "Mean squared error: 46.19\n",
      "\n",
      "Variance score: 0.62\n",
      "\n",
      "r2: 0.6160042339395896\n",
      "____________________________________________________________________________\n",
      "\n",
      "\n",
      "TRAIN RESULTS\n",
      "\n",
      "Coefficients: \n",
      " [ 4.91627798e+02 -2.48194293e+02  3.18708962e+01  1.94395964e+01\n",
      " -4.82909605e+00 -7.31968761e+00  2.30511177e+00 -2.30666814e+00\n",
      " -3.45737680e-01  1.09471743e-01 -4.39048276e+00  1.16629349e+00\n",
      " -1.21524694e-01]\n",
      "\n",
      "\n",
      "Mean squared error: 42.32\n",
      "\n",
      "Variance score: 0.62\n",
      "\n",
      "r2: 0.6161506864335764\n"
     ]
    }
   ],
   "source": [
    "from sklearn.linear_model import LinearRegression, Ridge, Lasso\n",
    "\n",
    "# Create linear regression object\n",
    "regr = linear_model.LinearRegression()\n",
    "\n",
    "# Train the model using the training sets\n",
    "regr.fit(X_train,Y_train)\n",
    "\n",
    "# Make predictions using the testing set\n",
    "y_pred_test = regr.predict(X_test)\n",
    "y_pred_train = regr.predict(X_train)\n",
    "\n",
    "print('____________________________________________________________________________\\n\\n')\n",
    "print('TEST RESULTS\\n')\n",
    "# The coefficients\n",
    "print('Coefficients: \\n', regr.coef_)\n",
    "\n",
    "print('\\n')\n",
    "# The mean squared error\n",
    "print(\"Mean squared error: %.2f\\n\"\n",
    "      % mean_squared_error(Y_test, y_pred_test))\n",
    "\n",
    "# Explained variance score: 1 is perfect prediction\n",
    "print('Variance score: %.2f\\n' % r2_score(Y_test, y_pred_test))\n",
    "\n",
    "print('r2:',r2_score(Y_test, y_pred_test) )\n",
    "print('____________________________________________________________________________\\n\\n')\n",
    "\n",
    "print('TRAIN RESULTS\\n')\n",
    "\n",
    "# The coefficients\n",
    "print('Coefficients: \\n', regr.coef_)\n",
    "print('\\n')\n",
    "# The mean squared error\n",
    "print(\"Mean squared error: %.2f\\n\"\n",
    "      % mean_squared_error(Y_train, y_pred_train))\n",
    "\n",
    "# Explained variance score: 1 is perfect prediction\n",
    "print('Variance score: %.2f\\n' % r2_score(Y_train, y_pred_train))\n",
    "print('r2:',r2_score(Y_train, y_pred_train))"
   ]
  }
 ],
 "metadata": {
  "kernelspec": {
   "display_name": "Python 3",
   "language": "python",
   "name": "python3"
  },
  "language_info": {
   "codemirror_mode": {
    "name": "ipython",
    "version": 3
   },
   "file_extension": ".py",
   "mimetype": "text/x-python",
   "name": "python",
   "nbconvert_exporter": "python",
   "pygments_lexer": "ipython3",
   "version": "3.7.1"
  }
 },
 "nbformat": 4,
 "nbformat_minor": 2
}
